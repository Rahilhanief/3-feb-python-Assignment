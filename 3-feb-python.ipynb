{
 "cells": [
  {
   "cell_type": "code",
   "execution_count": 22,
   "id": "054ac722-85f4-4035-8761-55bc255cc846",
   "metadata": {},
   "outputs": [],
   "source": [
    "#Q No. 1 :\n",
    "# def keyword is used to define a function\n",
    "#Example :\n",
    "def test():\n",
    "    return list(range(1,26,2))\n",
    "    "
   ]
  },
  {
   "cell_type": "code",
   "execution_count": 23,
   "id": "c7a0b2f1-e345-49ad-9f05-b9c9526f19d4",
   "metadata": {},
   "outputs": [
    {
     "data": {
      "text/plain": [
       "[1, 3, 5, 7, 9, 11, 13, 15, 17, 19, 21, 23, 25]"
      ]
     },
     "execution_count": 23,
     "metadata": {},
     "output_type": "execute_result"
    }
   ],
   "source": [
    "test()"
   ]
  },
  {
   "cell_type": "code",
   "execution_count": 31,
   "id": "8a1a5872-9678-4ce8-8cc5-822d46d9d83b",
   "metadata": {},
   "outputs": [
    {
     "data": {
      "text/plain": [
       "'\\n*args allows you to pass an arbitrary number of positional arguments to your function. \\nThe asterisk * is an unpacking parameter. They are packed as an iterable tuple inside the function.\\nOn the other hand, **kwargs allows you to pass a varying number of keyworded arguments to your function.\\n'"
      ]
     },
     "execution_count": 31,
     "metadata": {},
     "output_type": "execute_result"
    }
   ],
   "source": [
    "## Q No.2 :\n",
    "\"\"\"\n",
    "*args allows you to pass an arbitrary number of positional arguments to your function. \n",
    "The asterisk * is an unpacking parameter. They are packed as an iterable tuple inside the function.\n",
    "On the other hand, **kwargs allows you to pass a varying number of keyworded arguments to your function.\n",
    "\"\"\""
   ]
  },
  {
   "cell_type": "code",
   "execution_count": 28,
   "id": "a6fe728f-60c9-472b-924d-e8b2feda39ed",
   "metadata": {},
   "outputs": [
    {
     "data": {
      "text/plain": [
       "25"
      ]
     },
     "execution_count": 28,
     "metadata": {},
     "output_type": "execute_result"
    }
   ],
   "source": [
    "def test(*args):\n",
    "    return (sum(args))\n",
    "test(1,2,19,3)"
   ]
  },
  {
   "cell_type": "code",
   "execution_count": 30,
   "id": "5b35298b-8aa5-407a-b6a7-111320670521",
   "metadata": {},
   "outputs": [
    {
     "data": {
      "text/plain": [
       "{'a': 12, 'b': 'rahil', 'c': 1.4, 'd': [1, 2, 3]}"
      ]
     },
     "execution_count": 30,
     "metadata": {},
     "output_type": "execute_result"
    }
   ],
   "source": [
    "def test(** kwargs):\n",
    "    return kwargs\n",
    "test(a=12,b=\"rahil\",c=1.4,d=[1,2,3])"
   ]
  },
  {
   "cell_type": "code",
   "execution_count": 32,
   "id": "1862506e-4a81-4436-8d23-c5220db6efed",
   "metadata": {},
   "outputs": [
    {
     "data": {
      "text/plain": [
       "'\\nIn Python, an iterator is an object that allows you to iterate over collections of data, such as lists, tuples, \\ndictionaries, and sets.\\nIter() method is used to initialize the iterator object so that the instance of this object can be used for iterating.\\n'"
      ]
     },
     "execution_count": 32,
     "metadata": {},
     "output_type": "execute_result"
    }
   ],
   "source": [
    "## Q No. 3 :\n",
    "\"\"\"\n",
    "In Python, an iterator is an object that allows you to iterate over collections of data, such as lists, tuples, \n",
    "dictionaries, and sets.\n",
    "Iter() method is used to initialize the iterator object so that the instance of this object can be used for iterating.\n",
    "\"\"\""
   ]
  },
  {
   "cell_type": "code",
   "execution_count": 37,
   "id": "8882d073-de6f-4017-9172-296eb82d4743",
   "metadata": {},
   "outputs": [
    {
     "data": {
      "text/plain": [
       "2"
      ]
     },
     "execution_count": 37,
     "metadata": {},
     "output_type": "execute_result"
    }
   ],
   "source": [
    "l=[2, 4, 6, 8, 10, 12, 14, 16, 18, 20]\n",
    "l1=iter(l)\n",
    "next(l1)"
   ]
  },
  {
   "cell_type": "code",
   "execution_count": 38,
   "id": "d4fbf81c-95e8-4fd8-be5c-4f234fc0ab41",
   "metadata": {},
   "outputs": [
    {
     "data": {
      "text/plain": [
       "4"
      ]
     },
     "execution_count": 38,
     "metadata": {},
     "output_type": "execute_result"
    }
   ],
   "source": [
    "next(l1)"
   ]
  },
  {
   "cell_type": "code",
   "execution_count": 39,
   "id": "81af6c7b-fc4d-4094-9d58-4681a973c239",
   "metadata": {},
   "outputs": [
    {
     "data": {
      "text/plain": [
       "6"
      ]
     },
     "execution_count": 39,
     "metadata": {},
     "output_type": "execute_result"
    }
   ],
   "source": [
    "next(l1)"
   ]
  },
  {
   "cell_type": "code",
   "execution_count": 40,
   "id": "981f5ba2-d347-4009-b1d4-0f0d697843b9",
   "metadata": {},
   "outputs": [
    {
     "data": {
      "text/plain": [
       "8"
      ]
     },
     "execution_count": 40,
     "metadata": {},
     "output_type": "execute_result"
    }
   ],
   "source": [
    "next(l1)"
   ]
  },
  {
   "cell_type": "code",
   "execution_count": 41,
   "id": "4d5d7b0e-4e12-472a-95e5-2d4b9fb0fcf0",
   "metadata": {},
   "outputs": [
    {
     "data": {
      "text/plain": [
       "10"
      ]
     },
     "execution_count": 41,
     "metadata": {},
     "output_type": "execute_result"
    }
   ],
   "source": [
    "next(l1)"
   ]
  },
  {
   "cell_type": "code",
   "execution_count": 42,
   "id": "002473ab-0956-4b9d-87fd-bff0b26348b2",
   "metadata": {},
   "outputs": [
    {
     "data": {
      "text/plain": [
       "'\\nA generator is a function that returns an iterator that produces a sequence of values when iterated over.\\nThe Yield keyword in Python is similar to a return statement used for returning values or objects in Python.\\nHowever, there is a slight difference. The yield statement returns a generator object to the one who calls the function\\nwhich contains yield, instead of simply returning a value.\\n'"
      ]
     },
     "execution_count": 42,
     "metadata": {},
     "output_type": "execute_result"
    }
   ],
   "source": [
    "## Q No. 4 :\n",
    "\"\"\"\n",
    "A generator is a function that returns an iterator that produces a sequence of values when iterated over.\n",
    "The Yield keyword in Python is similar to a return statement used for returning values or objects in Python.\n",
    "However, there is a slight difference. The yield statement returns a generator object to the one who calls the function\n",
    "which contains yield, instead of simply returning a value.\n",
    "\"\"\""
   ]
  },
  {
   "cell_type": "code",
   "execution_count": 8,
   "id": "d2a701a8-f5aa-4763-88bf-1fdde93db631",
   "metadata": {},
   "outputs": [],
   "source": [
    "def count_test(n):\n",
    "    count=1\n",
    "    while count <=n:\n",
    "        yield count\n",
    "        count=count+1"
   ]
  },
  {
   "cell_type": "code",
   "execution_count": 9,
   "id": "e3f8c45d-6fdb-407a-a0c6-ca78a2bf85e2",
   "metadata": {},
   "outputs": [],
   "source": [
    "c=count_test(5)"
   ]
  },
  {
   "cell_type": "code",
   "execution_count": 10,
   "id": "29b6dc61-8fbb-4ce1-b357-afc158af7376",
   "metadata": {},
   "outputs": [
    {
     "name": "stdout",
     "output_type": "stream",
     "text": [
      "1\n",
      "2\n",
      "3\n",
      "4\n",
      "5\n"
     ]
    }
   ],
   "source": [
    "for i in c:\n",
    "    print (i)"
   ]
  },
  {
   "cell_type": "code",
   "execution_count": 31,
   "id": "102a770e-f4c6-4533-bea2-8fbeae814db3",
   "metadata": {},
   "outputs": [
    {
     "data": {
      "text/plain": [
       "[1, 2, 3, 5, 7, 11, 13, 17, 19]"
      ]
     },
     "execution_count": 31,
     "metadata": {},
     "output_type": "execute_result"
    }
   ],
   "source": [
    "## Q No. 5 :\n",
    "# Initialize a list\n",
    "primes = []\n",
    "for possiblePrime in range(1,20):\n",
    "    \n",
    "    # Assume number is prime until shown it is not. \n",
    "    isPrime = True\n",
    "    for num in range(2, possiblePrime):\n",
    "        if possiblePrime % num == 0:\n",
    "            isPrime = False\n",
    "      \n",
    "    if isPrime:\n",
    "        primes.append(possiblePrime)\n",
    "primes        "
   ]
  },
  {
   "cell_type": "code",
   "execution_count": 29,
   "id": "24742b36-e6ec-4af5-8d7b-1a4adf63da3e",
   "metadata": {},
   "outputs": [
    {
     "name": "stdout",
     "output_type": "stream",
     "text": [
      "0\n",
      "1\n",
      "1\n",
      "2\n",
      "3\n",
      "5\n",
      "8\n",
      "13\n",
      "21\n",
      "34\n"
     ]
    }
   ],
   "source": [
    "## Q No. 6 :\n",
    "a,b=0,1\n",
    "counter=0\n",
    "while counter<10:\n",
    "    print(a)\n",
    "    c=a+b\n",
    "    a=b\n",
    "    b=c\n",
    "    counter=counter+1    "
   ]
  },
  {
   "cell_type": "code",
   "execution_count": 35,
   "id": "336e412a-542c-4ade-bf2e-46d034cab79f",
   "metadata": {},
   "outputs": [
    {
     "data": {
      "text/plain": [
       "['p', 'w', 's', 'k', 'i', 'l', 'l', 's']"
      ]
     },
     "execution_count": 35,
     "metadata": {},
     "output_type": "execute_result"
    }
   ],
   "source": [
    "## Q No. 7 :\n",
    "s=\"pwskills\"\n",
    "[i for i in s]"
   ]
  },
  {
   "cell_type": "code",
   "execution_count": 15,
   "id": "4ea9be97-a76f-4090-b5ac-a39c78d049c3",
   "metadata": {},
   "outputs": [
    {
     "name": "stdin",
     "output_type": "stream",
     "text": [
      "Enter any number: 101\n"
     ]
    },
    {
     "name": "stdout",
     "output_type": "stream",
     "text": [
      "The 101 number is palindrome!\n"
     ]
    }
   ],
   "source": [
    "## Q No. 8:\n",
    "num=int(input(\"Enter any number:\"))\n",
    "temp=num\n",
    "rev=0\n",
    "while(num>0):\n",
    "    dig=num%10\n",
    "    rev=rev*10+dig\n",
    "    num=num//10\n",
    "if(temp==rev):\n",
    "    print(\"The {0} number is palindrome!\".format(temp))\n",
    "else:\n",
    "    print(\"Not a palindrome!\")"
   ]
  },
  {
   "cell_type": "code",
   "execution_count": 7,
   "id": "5c315ea6-2f59-4176-93f3-9fc84a929ecd",
   "metadata": {},
   "outputs": [
    {
     "data": {
      "text/plain": [
       "[1,\n",
       " 3,\n",
       " 5,\n",
       " 7,\n",
       " 9,\n",
       " 11,\n",
       " 13,\n",
       " 15,\n",
       " 17,\n",
       " 19,\n",
       " 21,\n",
       " 23,\n",
       " 25,\n",
       " 27,\n",
       " 29,\n",
       " 31,\n",
       " 33,\n",
       " 35,\n",
       " 37,\n",
       " 39,\n",
       " 41,\n",
       " 43,\n",
       " 45,\n",
       " 47,\n",
       " 49,\n",
       " 51,\n",
       " 53,\n",
       " 55,\n",
       " 57,\n",
       " 59,\n",
       " 61,\n",
       " 63,\n",
       " 65,\n",
       " 67,\n",
       " 69,\n",
       " 71,\n",
       " 73,\n",
       " 75,\n",
       " 77,\n",
       " 79,\n",
       " 81,\n",
       " 83,\n",
       " 85,\n",
       " 87,\n",
       " 89,\n",
       " 91,\n",
       " 93,\n",
       " 95,\n",
       " 97,\n",
       " 99]"
      ]
     },
     "execution_count": 7,
     "metadata": {},
     "output_type": "execute_result"
    }
   ],
   "source": [
    "## Q No. 9 :\n",
    "l=[i for i in range(1,100)]\n",
    "[i for i in l[::2] ]"
   ]
  }
 ],
 "metadata": {
  "kernelspec": {
   "display_name": "Python 3 (ipykernel)",
   "language": "python",
   "name": "python3"
  },
  "language_info": {
   "codemirror_mode": {
    "name": "ipython",
    "version": 3
   },
   "file_extension": ".py",
   "mimetype": "text/x-python",
   "name": "python",
   "nbconvert_exporter": "python",
   "pygments_lexer": "ipython3",
   "version": "3.10.8"
  }
 },
 "nbformat": 4,
 "nbformat_minor": 5
}
